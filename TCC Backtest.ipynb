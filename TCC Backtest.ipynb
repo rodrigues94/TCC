{
 "metadata": {
  "language_info": {
   "codemirror_mode": {
    "name": "ipython",
    "version": 3
   },
   "file_extension": ".py",
   "mimetype": "text/x-python",
   "name": "python",
   "nbconvert_exporter": "python",
   "pygments_lexer": "ipython3",
   "version": "3.7.6-final"
  },
  "orig_nbformat": 2,
  "kernelspec": {
   "name": "python3",
   "display_name": "Python 3"
  }
 },
 "nbformat": 4,
 "nbformat_minor": 2,
 "cells": [
  {
   "cell_type": "code",
   "execution_count": 5,
   "metadata": {},
   "outputs": [],
   "source": [
    "import pandas as pd\n",
    "import yfinance as yf"
   ]
  },
  {
   "cell_type": "code",
   "execution_count": 26,
   "metadata": {},
   "outputs": [],
   "source": [
    "def save_to_csv(df, path, name):\n",
    "    '''\n",
    "    Save dataframe (df) in the .csv format in the path\n",
    "    '''\n",
    "    if name[4:] == '.csv':\n",
    "        df.to_csv(path+name, sep=';', encoding='latin1', index=True)\n",
    "    else:\n",
    "        df.to_csv(path+name+'.csv', sep=';', encoding='latin1', index=True)\n",
    "    \n",
    "    print('Saved file.')"
   ]
  },
  {
   "cell_type": "code",
   "execution_count": 22,
   "metadata": {},
   "outputs": [],
   "source": [
    "def change_dot_to_comma(df):\n",
    "    '''\n",
    "    Change dots to comma, because decimal numbers are with comma.\n",
    "    '''\n",
    "    df = df.astype(str)\n",
    "    df = df.apply(lambda x: x.str.replace('.',','))\n",
    "    return df"
   ]
  },
  {
   "cell_type": "code",
   "execution_count": 6,
   "metadata": {},
   "outputs": [],
   "source": [
    "def download_prices(tickers, start_date, end_date):\n",
    "    '''\n",
    "    Download stick prices from yahoo finance.\n",
    "    '''\n",
    "\n",
    "    df = yf.download(tickers, start=start_date, end=end_date)\n",
    "\n",
    "    # Get just close price\n",
    "    df_close = df[\"Adj Close\"]\n",
    "\n",
    "    # check if everything is ok\n",
    "    if(df_close.empty==False):\n",
    "        return df_close\n",
    "    else:\n",
    "        print(\"Error\")"
   ]
  },
  {
   "cell_type": "code",
   "execution_count": 8,
   "metadata": {},
   "outputs": [],
   "source": [
    "def back_test(df, weights):\n",
    "\n",
    "    df_aux = df.copy()\n",
    "\n",
    "    for ticker in weights:\n",
    "        \n",
    "        # Get the weight of each ticker in the portfolio\n",
    "        weight = weights.get(ticker)\n",
    "\n",
    "        # Multiply the stock price by weight\n",
    "        df_aux.loc[:, ticker+' '+str(weight)] = df_aux.loc[:, ticker] * weight\n",
    "        \n",
    "    # Get the value of portfolio\n",
    "    df_aux.loc[:, 'portfolio'] = df_aux.iloc[:,-7:].sum(axis=1)\n",
    "    \n",
    "    return df_aux\n"
   ]
  },
  {
   "cell_type": "code",
   "execution_count": 37,
   "metadata": {},
   "outputs": [
    {
     "output_type": "stream",
     "name": "stdout",
     "text": [
      "[*********************100%***********************]  7 of 7 completed\n"
     ]
    }
   ],
   "source": [
    "tickers = ['AZUL4.SA', 'BTOW3.SA', 'CPLE6.SA', 'ENBR3.SA' , 'BBDC4.SA', 'JBSS3.SA', 'IGTA3.SA']\n",
    "\n",
    "start_date = '2019-11-01'\n",
    "end_date = '2020-11-30'\n",
    "\n",
    "df = download_prices(tickers, start_date, end_date)"
   ]
  },
  {
   "cell_type": "code",
   "execution_count": 12,
   "metadata": {},
   "outputs": [],
   "source": [
    "# Markowitz\n",
    "\n",
    "# Max Sharpe\n",
    "weights_mrk_max_sharpe = {'AZUL4.SA': 0.884,\n",
    "                      'BBDC4.SA': 0.116,\n",
    "                      'BTOW3.SA': 0.0,\n",
    "                      'CPLE6.SA': 0.0,\n",
    "                      'ENBR3.SA': 0.0,\n",
    "                      'IGTA3.SA': 0.0,\n",
    "                      'JBSS3.SA': 0.0}\n",
    "\n",
    "# Min Vol\n",
    "weights_mrk_min_vol = {'AZUL4.SA': 0.119,\n",
    "                   'BBDC4.SA': 0.134,\n",
    "                   'BTOW3.SA': 0.041,\n",
    "                   'CPLE6.SA': 0.01,\n",
    "                   'ENBR3.SA': 0.29,\n",
    "                   'IGTA3.SA': 0.35,\n",
    "                   'JBSS3.SA': 0.056}\n",
    "\n",
    "# Specific Vol\n",
    "weights_mrk_spec_vol = {'AZUL4.SA': 0.386,\n",
    "                    'BBDC4.SA': 0.194,\n",
    "                    'BTOW3.SA': 0.002,\n",
    "                    'CPLE6.SA': 0.0,\n",
    "                    'ENBR3.SA': 0.211,\n",
    "                    'IGTA3.SA': 0.184,\n",
    "                    'JBSS3.SA': 0.022}"
   ]
  },
  {
   "cell_type": "code",
   "execution_count": 13,
   "metadata": {},
   "outputs": [],
   "source": [
    "df_mrk_max_sharpe = back_test(df, weights_mrk_max_sharpe)\n",
    "df_mrk_min_vol = back_test(df, weights_mrk_min_vol)\n",
    "df_mrk_spec_vol = back_test(df, weights_mrk_spec_vol)"
   ]
  },
  {
   "cell_type": "code",
   "execution_count": 14,
   "metadata": {},
   "outputs": [],
   "source": [
    "# Black_Litterman\n",
    "\n",
    "# Max Sharpe\n",
    "weights_blk_max_sharpe = {'AZUL4.SA': 0.102,\n",
    "                      'BBDC4.SA': 0.034,\n",
    "                      'BTOW3.SA': 0.0,\n",
    "                      'CPLE6.SA': 0.0,\n",
    "                      'ENBR3.SA': 0.708,\n",
    "                      'IGTA3.SA': 0.0,\n",
    "                      'JBSS3.SA': 0.155}\n",
    "\n",
    "# Min Vol\n",
    "weights_blk_min_vol = {'AZUL4.SA': 0.768,\n",
    "                   'BBDC4.SA': 0.038,\n",
    "                   'BTOW3.SA': 0.008,\n",
    "                   'CPLE6.SA': 0.003,\n",
    "                   'ENBR3.SA': 0.089,\n",
    "                   'IGTA3.SA': 0.085,\n",
    "                   'JBSS3.SA': 0.009}\n",
    "\n",
    "# Specific Vol\n",
    "weights_blk_spec_vol = {'AZUL4.SA': 0.169,\n",
    "                    'BBDC4.SA': 0.038,\n",
    "                    'BTOW3.SA': 0.0,\n",
    "                    'CPLE6.SA': 0.0,\n",
    "                    'ENBR3.SA': 0.651,\n",
    "                    'IGTA3.SA': 0.0,\n",
    "                    'JBSS3.SA': 0.142}"
   ]
  },
  {
   "cell_type": "code",
   "execution_count": 15,
   "metadata": {},
   "outputs": [],
   "source": [
    "df_blk_max_sharpe = back_test(df, weights_blk_max_sharpe)\n",
    "df_blk_min_vol = back_test(df, weights_blk_min_vol)\n",
    "df_blk_spec_vol = back_test(df, weights_blk_spec_vol)"
   ]
  },
  {
   "cell_type": "code",
   "execution_count": 27,
   "metadata": {},
   "outputs": [
    {
     "output_type": "stream",
     "name": "stdout",
     "text": [
      "Saved file.\nSaved file.\nSaved file.\nSaved file.\nSaved file.\nSaved file.\n"
     ]
    }
   ],
   "source": [
    "path = 'C:\\\\Users\\\\Joao\\\\Desktop\\\\Python Codes\\\\TCC\\\\Resultados\\\\'\n",
    "\n",
    "save_to_csv(change_dot_to_comma(df_mrk_max_sharpe), path, 'mrk_max_sharpe')\n",
    "save_to_csv(change_dot_to_comma(df_mrk_min_vol), path, 'mrk_min_vol')\n",
    "save_to_csv(change_dot_to_comma(df_mrk_spec_vol), path, 'mrk_spec_vol')\n",
    "save_to_csv(change_dot_to_comma(df_blk_max_sharpe), path, 'blk_max_sharpe')\n",
    "save_to_csv(change_dot_to_comma(df_blk_min_vol), path, 'blk_min_vo')\n",
    "save_to_csv(change_dot_to_comma(df_blk_spec_vol), path, 'blk_spec_vol')"
   ]
  },
  {
   "cell_type": "code",
   "execution_count": 33,
   "metadata": {},
   "outputs": [
    {
     "output_type": "stream",
     "name": "stdout",
     "text": [
      "[*********************100%***********************]  2 of 2 completed\n"
     ]
    }
   ],
   "source": [
    "tickers = ['^BVSP', 'AZUL4.SA']\n",
    "\n",
    "start_date = '2019-11-01'\n",
    "end_date = '2020-11-30'\n",
    "\n",
    "df = download_prices(tickers, start_date, end_date)"
   ]
  },
  {
   "cell_type": "code",
   "execution_count": 32,
   "metadata": {},
   "outputs": [
    {
     "output_type": "execute_result",
     "data": {
      "text/plain": [
       "Date\n",
       "2019-11-01    108196.0\n",
       "2019-11-04    108601.0\n",
       "2019-11-05    108451.0\n",
       "2019-11-06    108336.0\n",
       "2019-11-07    109581.0\n",
       "                ...   \n",
       "2020-11-23    107379.0\n",
       "2020-11-24    109786.0\n",
       "2020-11-25    110133.0\n",
       "2020-11-26    110227.0\n",
       "2020-11-27    110575.0\n",
       "Name: Adj Close, Length: 264, dtype: float64"
      ]
     },
     "metadata": {},
     "execution_count": 32
    }
   ],
   "source": [
    "df"
   ]
  },
  {
   "cell_type": "code",
   "execution_count": 34,
   "metadata": {},
   "outputs": [
    {
     "output_type": "stream",
     "name": "stdout",
     "text": [
      "Saved file.\n"
     ]
    }
   ],
   "source": [
    "save_to_csv(change_dot_to_comma(df), path, 'ibov')"
   ]
  },
  {
   "cell_type": "code",
   "execution_count": 35,
   "metadata": {},
   "outputs": [],
   "source": [
    "# Specific Vol\n",
    "weights_same= {'AZUL4.SA': 0.142,\n",
    "                    'BBDC4.SA': 0.143,\n",
    "                    'BTOW3.SA': 0.143,\n",
    "                    'CPLE6.SA': 0.143,\n",
    "                    'ENBR3.SA': 0.143,\n",
    "                    'IGTA3.SA': 0.143,\n",
    "                    'JBSS3.SA': 0.143}"
   ]
  },
  {
   "cell_type": "code",
   "execution_count": 38,
   "metadata": {},
   "outputs": [
    {
     "output_type": "stream",
     "name": "stdout",
     "text": [
      "Saved file.\n"
     ]
    }
   ],
   "source": [
    "df_same = back_test(df, weights_same)\n",
    "\n",
    "save_to_csv(change_dot_to_comma(df_same), path, 'same_weights')"
   ]
  }
 ]
}